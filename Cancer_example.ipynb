{
 "cells": [
  {
   "cell_type": "markdown",
   "metadata": {},
   "source": [
    "\n",
    "# BioNeuralNet Cancer Example 2"
   ]
  },
  {
   "cell_type": "code",
   "execution_count": null,
   "metadata": {},
   "outputs": [],
   "source": [
    "from bioneuralnet.datasets.dataset_loader import DatasetLoader\n",
    "\n",
    "brca = DatasetLoader(\"TCGA_BRCA\")\n",
    "print(brca.shape)\n",
    "print(brca)\n"
   ]
  },
  {
   "cell_type": "code",
   "execution_count": null,
   "metadata": {},
   "outputs": [],
   "source": [
    "from bioneuralnet.utils.preprocess import select_top_k_variance, top_anova_f_features\n",
    "\n",
    "# 1) Load your data\n",
    "brca_meth_df   = brca.data[\"BRCA_Meth\"]\n",
    "brca_rna_df    = brca.data[\"BRCA_RNA\"]\n",
    "pam50_df       = brca.data[\"BRCA_PAM50\"]\n",
    "\n",
    "# 2) Encode PAM50 → numeric codes\n",
    "mapping = {\n",
    "    \"Normal\": 0,\n",
    "    \"Basal\":  1,\n",
    "    \"Her2\":   2,\n",
    "    \"LumA\":   3,\n",
    "    \"LumB\":   4,\n",
    "}\n",
    "pam50_series = pam50_df[\"PAM50\"].map(mapping)\n",
    "\n",
    "# sanity check\n",
    "print(pam50_series.value_counts())  # note the () at the end!\n",
    "\n",
    "# 3) Select top-k by variance\n",
    "top_k = 2000\n",
    "meth_var = select_top_k_variance(brca_meth_df, k=top_k)\n",
    "rna_var  = select_top_k_variance(brca_rna_df,  k=top_k)\n",
    "print(\"Variance‐based:\")\n",
    "print(\"  Meth shape:\", meth_var.shape)  \n",
    "print(\"  RNA  shape:\", rna_var.shape)\n",
    "\n",
    "# 4) Select top-k by ANOVA F-test\n",
    "#    Note: the function signature is (X, y, max_features=…)\n",
    "meth_anova = top_anova_f_features(\n",
    "    brca_meth_df,\n",
    "    pam50_series,\n",
    "    max_features=top_k\n",
    ")\n",
    "rna_anova = top_anova_f_features(\n",
    "    brca_rna_df,\n",
    "    pam50_series,\n",
    "    max_features=top_k\n",
    ")\n",
    "print(\"ANOVA‐based:\")\n",
    "print(\"  Meth shape:\", meth_anova.shape)\n",
    "print(\"  RNA  shape:\", rna_anova.shape)\n",
    "\n",
    "# 5) (Optional) save to CSV\n",
    "meth_var.to_csv(\"brca_meth_top2000_var.csv\",   index_label=\"sample_id\")\n",
    "rna_var.to_csv(\"brca_rna_top2000_var.csv\",    index_label=\"sample_id\")\n",
    "meth_anova.to_csv(\"brca_meth_top2000_anova.csv\", index_label=\"sample_id\")\n",
    "rna_anova.to_csv(\"brca_rna_top2000_anova.csv\",  index_label=\"sample_id\")\n"
   ]
  },
  {
   "cell_type": "code",
   "execution_count": null,
   "metadata": {},
   "outputs": [],
   "source": [
    "# 1) Compute intersections\n",
    "common_meth = meth_var.columns.intersection(meth_anova.columns)\n",
    "common_rna  = rna_var.columns.intersection(rna_anova.columns)\n",
    "\n",
    "# 2) Print counts and percentages\n",
    "print(f\"Methylation overlap: {len(common_meth)} / {top_k} features \"\n",
    "      f\"({len(common_meth)/top_k:.1%})\")\n",
    "print(f\"RNA overlap:         {len(common_rna)} / {top_k} features \"\n",
    "      f\"({len(common_rna)/top_k:.1%})\")\n",
    "\n",
    "# 3) (Optional) peek at the first few common features\n",
    "print(\"\\nFirst 10 common methylation features:\", list(common_meth[:10]))\n",
    "print(\"First 10 common RNA features:       \", list(common_rna[:10]))"
   ]
  }
 ],
 "metadata": {
  "kernelspec": {
   "display_name": ".venv",
   "language": "python",
   "name": "python3"
  },
  "language_info": {
   "codemirror_mode": {
    "name": "ipython",
    "version": 3
   },
   "file_extension": ".py",
   "mimetype": "text/x-python",
   "name": "python",
   "nbconvert_exporter": "python",
   "pygments_lexer": "ipython3",
   "version": "3.12.3"
  }
 },
 "nbformat": 4,
 "nbformat_minor": 2
}
